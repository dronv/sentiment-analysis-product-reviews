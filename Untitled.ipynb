{
 "cells": [
  {
   "cell_type": "code",
   "execution_count": 1,
   "id": "0ca1f6e0",
   "metadata": {
    "tags": []
   },
   "outputs": [],
   "source": [
    "import pandas as pd\n",
    "import json\n",
    "import os\n",
    "from nltk.stem import WordNetLemmatizer\n",
    "import nltk\n",
    "from nltk.tokenize import word_tokenize\n",
    "from nltk.corpus import stopwords\n",
    "from sklearn.feature_extraction.text import CountVectorizer\n",
    "from sklearn.model_selection import train_test_split\n",
    "from sklearn.linear_model import LinearRegression\n",
    "from sklearn.metrics import mean_squared_error\n",
    "import re\n",
    "from nltk.stem import WordNetLemmatizer\n",
    "from nltk import pos_tag\n",
    "import string\n"
   ]
  },
  {
   "cell_type": "markdown",
   "id": "7cf04a5b",
   "metadata": {},
   "source": [
    "# Convert JSON DATASET TO CSV FILE"
   ]
  },
  {
   "cell_type": "code",
   "execution_count": 2,
   "id": "042b741e",
   "metadata": {
    "tags": []
   },
   "outputs": [],
   "source": [
    "import pandas as pd\n",
    "\n",
    "#Beauty\n",
    "data = []\n",
    "with open('./dataset/All_Beauty_5.json', 'r') as json_file:\n",
    "    for line in json_file:\n",
    "        data.append(json.loads(line))\n",
    "\n",
    "# Convert to DataFrame\n",
    "df = pd.DataFrame(data)\n",
    "df['category'] = 'Beauty Products'\n",
    "# Write DataFrame to CSV file\n",
    "df.to_csv('./dataset/all_beauty.csv', index=False)\n",
    "\n",
    "\n",
    "# Fashion\n",
    "data = []\n",
    "with open('./dataset/AMAZON_FASHION_5.json', 'r') as json_file:\n",
    "    for line in json_file:\n",
    "        data.append(json.loads(line))\n",
    "\n",
    "# Convert to DataFrame\n",
    "df = pd.DataFrame(data)\n",
    "df['category'] = 'Fashion'\n",
    "# Write DataFrame to CSV file\n",
    "df.to_csv('./dataset/all_fashion.csv', index=False)\n",
    "\n",
    "#Applicances\n",
    "data = []\n",
    "with open('./dataset/Appliances_5.json', 'r') as json_file:\n",
    "    for line in json_file:\n",
    "        data.append(json.loads(line))\n",
    "\n",
    "# Convert to DataFrame\n",
    "df = pd.DataFrame(data)\n",
    "df['category'] = 'Appliances'\n",
    "# Write DataFrame to CSV file\n",
    "df.to_csv('./dataset/all_appliances.csv', index=False)\n",
    "\n",
    "#Industries and Scientific\n",
    "data = []\n",
    "with open('./dataset/Industrial_and_Scientific_5.json', 'r') as json_file:\n",
    "    for line in json_file:\n",
    "        data.append(json.loads(line))\n",
    "\n",
    "# Convert to DataFrame\n",
    "df = pd.DataFrame(data)\n",
    "df['category'] = 'Industrial & Scientific'\n",
    "# Write DataFrame to CSV file\n",
    "df.to_csv('./dataset/industrial_and_scientific.csv', index=False)\n",
    "\n",
    "#Luxury\n",
    "data = []\n",
    "with open('./dataset/Luxury_Beauty_5.json', 'r') as json_file:\n",
    "    for line in json_file:\n",
    "        data.append(json.loads(line))\n",
    "\n",
    "# Convert to DataFrame\n",
    "df = pd.DataFrame(data)\n",
    "df['category'] = 'Luxury'\n",
    "# Write DataFrame to CSV file\n",
    "df.to_csv('./dataset/luxury.csv', index=False)\n",
    "\n",
    "#Software\n",
    "data = []\n",
    "with open('./dataset/Software_5.json', 'r') as json_file:\n",
    "    for line in json_file:\n",
    "        data.append(json.loads(line))\n",
    "\n",
    "# Convert to DataFrame\n",
    "df = pd.DataFrame(data)\n",
    "df['category'] = 'Software'\n",
    "# Write DataFrame to CSV file\n",
    "df.to_csv('./dataset/software.csv', index=False)\n",
    "\n",
    "#Office Products\n",
    "data = []\n",
    "with open('./dataset/Magazine_Subscriptions_5.json', 'r') as json_file:\n",
    "    for line in json_file:\n",
    "        data.append(json.loads(line))\n",
    "\n",
    "# Convert to DataFrame\n",
    "df = pd.DataFrame(data)\n",
    "df['category'] = 'Magazine'\n",
    "# Write DataFrame to CSV file\n",
    "df.to_csv('./dataset/magazine.csv', index=False)\n",
    "\n",
    "#Tools and Improvement\n",
    "data = []\n",
    "with open('./dataset/Gift_Cards_5.json', 'r') as json_file:\n",
    "    for line in json_file:\n",
    "        data.append(json.loads(line))\n",
    "\n",
    "# Convert to DataFrame\n",
    "df = pd.DataFrame(data)\n",
    "df['category'] = 'Gift cards'\n",
    "# Write DataFrame to CSV file\n",
    "df.to_csv('./dataset/gift_cards.csv', index=False)"
   ]
  },
  {
   "cell_type": "markdown",
   "id": "32e1642d",
   "metadata": {},
   "source": [
    "# Merge all CSV files"
   ]
  },
  {
   "cell_type": "code",
   "execution_count": 3,
   "id": "39988442",
   "metadata": {
    "tags": []
   },
   "outputs": [
    {
     "name": "stderr",
     "output_type": "stream",
     "text": [
      "/tmp/ipykernel_13671/4000321863.py:12: DtypeWarning: Columns (10) have mixed types. Specify dtype option on import or set low_memory=False.\n",
      "  df = pd.read_csv(file_path)\n"
     ]
    },
    {
     "name": "stdout",
     "output_type": "stream",
     "text": [
      "All CSV files have been merged into ./dataset/all_products.csv.\n"
     ]
    }
   ],
   "source": [
    "df = \"\"\n",
    "directory = './dataset/'\n",
    "\n",
    "csv_files = [file for file in os.listdir(directory) if file.endswith('.csv')]\n",
    "\n",
    "# Create an empty list to store DataFrames for each CSV file\n",
    "dfs = []\n",
    "\n",
    "# Read each CSV file and append its DataFrame to the list\n",
    "for file in csv_files:\n",
    "    file_path = os.path.join(directory, file)\n",
    "    df = pd.read_csv(file_path)\n",
    "    dfs.append(df)\n",
    "\n",
    "# Concatenate all DataFrames into one\n",
    "df = pd.concat(dfs, ignore_index=True)\n",
    "\n",
    "# Save the merged DataFrame to a single CSV file\n",
    "merged_file_path = './dataset/all_products.csv'\n",
    "df.to_csv(merged_file_path, index=False)\n",
    "\n",
    "print(f\"All CSV files have been merged into {merged_file_path}.\")\n"
   ]
  },
  {
   "cell_type": "code",
   "execution_count": 4,
   "id": "f9bc15c9",
   "metadata": {
    "tags": []
   },
   "outputs": [
    {
     "data": {
      "text/html": [
       "<div>\n",
       "<style scoped>\n",
       "    .dataframe tbody tr th:only-of-type {\n",
       "        vertical-align: middle;\n",
       "    }\n",
       "\n",
       "    .dataframe tbody tr th {\n",
       "        vertical-align: top;\n",
       "    }\n",
       "\n",
       "    .dataframe thead th {\n",
       "        text-align: right;\n",
       "    }\n",
       "</style>\n",
       "<table border=\"1\" class=\"dataframe\">\n",
       "  <thead>\n",
       "    <tr style=\"text-align: right;\">\n",
       "      <th></th>\n",
       "      <th>overall</th>\n",
       "      <th>verified</th>\n",
       "      <th>reviewTime</th>\n",
       "      <th>reviewerID</th>\n",
       "      <th>asin</th>\n",
       "      <th>style</th>\n",
       "      <th>reviewerName</th>\n",
       "      <th>reviewText</th>\n",
       "      <th>summary</th>\n",
       "      <th>unixReviewTime</th>\n",
       "      <th>vote</th>\n",
       "      <th>image</th>\n",
       "      <th>category</th>\n",
       "    </tr>\n",
       "  </thead>\n",
       "  <tbody>\n",
       "    <tr>\n",
       "      <th>0</th>\n",
       "      <td>5.0</td>\n",
       "      <td>True</td>\n",
       "      <td>09 1, 2016</td>\n",
       "      <td>A3CIUOJXQ5VDQ2</td>\n",
       "      <td>B0000530HU</td>\n",
       "      <td>{'Size:': ' 7.0 oz', 'Flavor:': ' Classic Ice ...</td>\n",
       "      <td>Shelly F</td>\n",
       "      <td>As advertised. Reasonably priced</td>\n",
       "      <td>Five Stars</td>\n",
       "      <td>1472688000</td>\n",
       "      <td>NaN</td>\n",
       "      <td>NaN</td>\n",
       "      <td>Beauty Products</td>\n",
       "    </tr>\n",
       "    <tr>\n",
       "      <th>1</th>\n",
       "      <td>5.0</td>\n",
       "      <td>True</td>\n",
       "      <td>11 14, 2013</td>\n",
       "      <td>A3H7T87S984REU</td>\n",
       "      <td>B0000530HU</td>\n",
       "      <td>{'Size:': ' 7.0 oz', 'Flavor:': ' Classic Ice ...</td>\n",
       "      <td>houserules18</td>\n",
       "      <td>Like the oder and the feel when I put it on my...</td>\n",
       "      <td>Good for the face</td>\n",
       "      <td>1384387200</td>\n",
       "      <td>NaN</td>\n",
       "      <td>NaN</td>\n",
       "      <td>Beauty Products</td>\n",
       "    </tr>\n",
       "    <tr>\n",
       "      <th>2</th>\n",
       "      <td>1.0</td>\n",
       "      <td>True</td>\n",
       "      <td>08 18, 2013</td>\n",
       "      <td>A3J034YH7UG4KT</td>\n",
       "      <td>B0000530HU</td>\n",
       "      <td>{'Size:': ' 7.0 oz', 'Flavor:': ' Classic Ice ...</td>\n",
       "      <td>Adam</td>\n",
       "      <td>I bought this to smell nice after I shave.  Wh...</td>\n",
       "      <td>Smells awful</td>\n",
       "      <td>1376784000</td>\n",
       "      <td>NaN</td>\n",
       "      <td>NaN</td>\n",
       "      <td>Beauty Products</td>\n",
       "    </tr>\n",
       "    <tr>\n",
       "      <th>3</th>\n",
       "      <td>5.0</td>\n",
       "      <td>False</td>\n",
       "      <td>05 3, 2011</td>\n",
       "      <td>A2UEO5XR3598GI</td>\n",
       "      <td>B0000530HU</td>\n",
       "      <td>{'Size:': ' 7.0 oz', 'Flavor:': ' Classic Ice ...</td>\n",
       "      <td>Rich K</td>\n",
       "      <td>HEY!! I am an Aqua Velva Man and absolutely lo...</td>\n",
       "      <td>Truth is There IS Nothing Like an AQUA VELVA MAN.</td>\n",
       "      <td>1304380800</td>\n",
       "      <td>25</td>\n",
       "      <td>NaN</td>\n",
       "      <td>Beauty Products</td>\n",
       "    </tr>\n",
       "    <tr>\n",
       "      <th>4</th>\n",
       "      <td>5.0</td>\n",
       "      <td>True</td>\n",
       "      <td>05 6, 2011</td>\n",
       "      <td>A3SFRT223XXWF7</td>\n",
       "      <td>B00006L9LC</td>\n",
       "      <td>{'Size:': ' 200ml/6.7oz'}</td>\n",
       "      <td>C. C. Christian</td>\n",
       "      <td>If you ever want to feel pampered by a shampoo...</td>\n",
       "      <td>Bvlgari Shampoo</td>\n",
       "      <td>1304640000</td>\n",
       "      <td>3</td>\n",
       "      <td>NaN</td>\n",
       "      <td>Beauty Products</td>\n",
       "    </tr>\n",
       "  </tbody>\n",
       "</table>\n",
       "</div>"
      ],
      "text/plain": [
       "   overall  verified   reviewTime      reviewerID        asin  \\\n",
       "0      5.0      True   09 1, 2016  A3CIUOJXQ5VDQ2  B0000530HU   \n",
       "1      5.0      True  11 14, 2013  A3H7T87S984REU  B0000530HU   \n",
       "2      1.0      True  08 18, 2013  A3J034YH7UG4KT  B0000530HU   \n",
       "3      5.0     False   05 3, 2011  A2UEO5XR3598GI  B0000530HU   \n",
       "4      5.0      True   05 6, 2011  A3SFRT223XXWF7  B00006L9LC   \n",
       "\n",
       "                                               style     reviewerName  \\\n",
       "0  {'Size:': ' 7.0 oz', 'Flavor:': ' Classic Ice ...         Shelly F   \n",
       "1  {'Size:': ' 7.0 oz', 'Flavor:': ' Classic Ice ...     houserules18   \n",
       "2  {'Size:': ' 7.0 oz', 'Flavor:': ' Classic Ice ...             Adam   \n",
       "3  {'Size:': ' 7.0 oz', 'Flavor:': ' Classic Ice ...           Rich K   \n",
       "4                          {'Size:': ' 200ml/6.7oz'}  C. C. Christian   \n",
       "\n",
       "                                          reviewText  \\\n",
       "0                   As advertised. Reasonably priced   \n",
       "1  Like the oder and the feel when I put it on my...   \n",
       "2  I bought this to smell nice after I shave.  Wh...   \n",
       "3  HEY!! I am an Aqua Velva Man and absolutely lo...   \n",
       "4  If you ever want to feel pampered by a shampoo...   \n",
       "\n",
       "                                             summary  unixReviewTime vote  \\\n",
       "0                                         Five Stars      1472688000  NaN   \n",
       "1                                  Good for the face      1384387200  NaN   \n",
       "2                                       Smells awful      1376784000  NaN   \n",
       "3  Truth is There IS Nothing Like an AQUA VELVA MAN.      1304380800   25   \n",
       "4                                    Bvlgari Shampoo      1304640000    3   \n",
       "\n",
       "  image         category  \n",
       "0   NaN  Beauty Products  \n",
       "1   NaN  Beauty Products  \n",
       "2   NaN  Beauty Products  \n",
       "3   NaN  Beauty Products  \n",
       "4   NaN  Beauty Products  "
      ]
     },
     "execution_count": 4,
     "metadata": {},
     "output_type": "execute_result"
    }
   ],
   "source": [
    "df = pd.read_csv(\"./dataset/all_products.csv\")\n",
    "df.head()"
   ]
  },
  {
   "cell_type": "code",
   "execution_count": 5,
   "id": "356666c1",
   "metadata": {
    "tags": []
   },
   "outputs": [
    {
     "data": {
      "text/plain": [
       "(280446, 13)"
      ]
     },
     "execution_count": 5,
     "metadata": {},
     "output_type": "execute_result"
    }
   ],
   "source": [
    "df.shape"
   ]
  },
  {
   "cell_type": "code",
   "execution_count": 6,
   "id": "cd67f3d5",
   "metadata": {
    "tags": []
   },
   "outputs": [
    {
     "data": {
      "text/plain": [
       "Index(['overall', 'verified', 'reviewTime', 'reviewerID', 'asin', 'style',\n",
       "       'reviewerName', 'reviewText', 'summary', 'unixReviewTime', 'vote',\n",
       "       'image', 'category'],\n",
       "      dtype='object')"
      ]
     },
     "execution_count": 6,
     "metadata": {},
     "output_type": "execute_result"
    }
   ],
   "source": [
    "df.columns"
   ]
  },
  {
   "cell_type": "code",
   "execution_count": 7,
   "id": "3a1ff1c8",
   "metadata": {
    "tags": []
   },
   "outputs": [
    {
     "data": {
      "text/html": [
       "<div>\n",
       "<style scoped>\n",
       "    .dataframe tbody tr th:only-of-type {\n",
       "        vertical-align: middle;\n",
       "    }\n",
       "\n",
       "    .dataframe tbody tr th {\n",
       "        vertical-align: top;\n",
       "    }\n",
       "\n",
       "    .dataframe thead th {\n",
       "        text-align: right;\n",
       "    }\n",
       "</style>\n",
       "<table border=\"1\" class=\"dataframe\">\n",
       "  <thead>\n",
       "    <tr style=\"text-align: right;\">\n",
       "      <th></th>\n",
       "      <th>overall</th>\n",
       "      <th>verified</th>\n",
       "      <th>reviewTime</th>\n",
       "      <th>reviewerID</th>\n",
       "      <th>asin</th>\n",
       "      <th>reviewerName</th>\n",
       "      <th>reviewText</th>\n",
       "      <th>summary</th>\n",
       "      <th>vote</th>\n",
       "      <th>category</th>\n",
       "    </tr>\n",
       "  </thead>\n",
       "  <tbody>\n",
       "    <tr>\n",
       "      <th>0</th>\n",
       "      <td>5.0</td>\n",
       "      <td>True</td>\n",
       "      <td>09 1, 2016</td>\n",
       "      <td>A3CIUOJXQ5VDQ2</td>\n",
       "      <td>B0000530HU</td>\n",
       "      <td>Shelly F</td>\n",
       "      <td>As advertised. Reasonably priced</td>\n",
       "      <td>Five Stars</td>\n",
       "      <td>NaN</td>\n",
       "      <td>Beauty Products</td>\n",
       "    </tr>\n",
       "    <tr>\n",
       "      <th>1</th>\n",
       "      <td>5.0</td>\n",
       "      <td>True</td>\n",
       "      <td>11 14, 2013</td>\n",
       "      <td>A3H7T87S984REU</td>\n",
       "      <td>B0000530HU</td>\n",
       "      <td>houserules18</td>\n",
       "      <td>Like the oder and the feel when I put it on my...</td>\n",
       "      <td>Good for the face</td>\n",
       "      <td>NaN</td>\n",
       "      <td>Beauty Products</td>\n",
       "    </tr>\n",
       "    <tr>\n",
       "      <th>2</th>\n",
       "      <td>1.0</td>\n",
       "      <td>True</td>\n",
       "      <td>08 18, 2013</td>\n",
       "      <td>A3J034YH7UG4KT</td>\n",
       "      <td>B0000530HU</td>\n",
       "      <td>Adam</td>\n",
       "      <td>I bought this to smell nice after I shave.  Wh...</td>\n",
       "      <td>Smells awful</td>\n",
       "      <td>NaN</td>\n",
       "      <td>Beauty Products</td>\n",
       "    </tr>\n",
       "    <tr>\n",
       "      <th>3</th>\n",
       "      <td>5.0</td>\n",
       "      <td>False</td>\n",
       "      <td>05 3, 2011</td>\n",
       "      <td>A2UEO5XR3598GI</td>\n",
       "      <td>B0000530HU</td>\n",
       "      <td>Rich K</td>\n",
       "      <td>HEY!! I am an Aqua Velva Man and absolutely lo...</td>\n",
       "      <td>Truth is There IS Nothing Like an AQUA VELVA MAN.</td>\n",
       "      <td>25</td>\n",
       "      <td>Beauty Products</td>\n",
       "    </tr>\n",
       "    <tr>\n",
       "      <th>4</th>\n",
       "      <td>5.0</td>\n",
       "      <td>True</td>\n",
       "      <td>05 6, 2011</td>\n",
       "      <td>A3SFRT223XXWF7</td>\n",
       "      <td>B00006L9LC</td>\n",
       "      <td>C. C. Christian</td>\n",
       "      <td>If you ever want to feel pampered by a shampoo...</td>\n",
       "      <td>Bvlgari Shampoo</td>\n",
       "      <td>3</td>\n",
       "      <td>Beauty Products</td>\n",
       "    </tr>\n",
       "  </tbody>\n",
       "</table>\n",
       "</div>"
      ],
      "text/plain": [
       "   overall  verified   reviewTime      reviewerID        asin  \\\n",
       "0      5.0      True   09 1, 2016  A3CIUOJXQ5VDQ2  B0000530HU   \n",
       "1      5.0      True  11 14, 2013  A3H7T87S984REU  B0000530HU   \n",
       "2      1.0      True  08 18, 2013  A3J034YH7UG4KT  B0000530HU   \n",
       "3      5.0     False   05 3, 2011  A2UEO5XR3598GI  B0000530HU   \n",
       "4      5.0      True   05 6, 2011  A3SFRT223XXWF7  B00006L9LC   \n",
       "\n",
       "      reviewerName                                         reviewText  \\\n",
       "0         Shelly F                   As advertised. Reasonably priced   \n",
       "1     houserules18  Like the oder and the feel when I put it on my...   \n",
       "2             Adam  I bought this to smell nice after I shave.  Wh...   \n",
       "3           Rich K  HEY!! I am an Aqua Velva Man and absolutely lo...   \n",
       "4  C. C. Christian  If you ever want to feel pampered by a shampoo...   \n",
       "\n",
       "                                             summary vote         category  \n",
       "0                                         Five Stars  NaN  Beauty Products  \n",
       "1                                  Good for the face  NaN  Beauty Products  \n",
       "2                                       Smells awful  NaN  Beauty Products  \n",
       "3  Truth is There IS Nothing Like an AQUA VELVA MAN.   25  Beauty Products  \n",
       "4                                    Bvlgari Shampoo    3  Beauty Products  "
      ]
     },
     "execution_count": 7,
     "metadata": {},
     "output_type": "execute_result"
    }
   ],
   "source": [
    "# List of columns to remove\n",
    "columns_to_remove = ['style','image','unixReviewTime']\n",
    "\n",
    "# Drop unnecessary columns\n",
    "df = df.drop(columns=columns_to_remove)\n",
    "\n",
    "df.head()"
   ]
  },
  {
   "cell_type": "code",
   "execution_count": 8,
   "id": "64feb963",
   "metadata": {
    "tags": []
   },
   "outputs": [
    {
     "name": "stdout",
     "output_type": "stream",
     "text": [
      "<class 'pandas.core.frame.DataFrame'>\n",
      "RangeIndex: 280446 entries, 0 to 280445\n",
      "Data columns (total 10 columns):\n",
      " #   Column        Non-Null Count   Dtype  \n",
      "---  ------        --------------   -----  \n",
      " 0   overall       280446 non-null  float64\n",
      " 1   verified      280446 non-null  bool   \n",
      " 2   reviewTime    280446 non-null  object \n",
      " 3   reviewerID    280446 non-null  object \n",
      " 4   asin          280446 non-null  object \n",
      " 5   reviewerName  280338 non-null  object \n",
      " 6   reviewText    280330 non-null  object \n",
      " 7   summary       280370 non-null  object \n",
      " 8   vote          47508 non-null   object \n",
      " 9   category      280446 non-null  object \n",
      "dtypes: bool(1), float64(1), object(8)\n",
      "memory usage: 19.5+ MB\n"
     ]
    }
   ],
   "source": [
    "df.info()"
   ]
  },
  {
   "cell_type": "code",
   "execution_count": 9,
   "id": "1ce1a1fb",
   "metadata": {
    "tags": []
   },
   "outputs": [
    {
     "data": {
      "text/plain": [
       "overall              0\n",
       "verified             0\n",
       "reviewTime           0\n",
       "reviewerID           0\n",
       "asin                 0\n",
       "reviewerName       108\n",
       "reviewText         116\n",
       "summary             76\n",
       "vote            232938\n",
       "category             0\n",
       "dtype: int64"
      ]
     },
     "execution_count": 9,
     "metadata": {},
     "output_type": "execute_result"
    }
   ],
   "source": [
    "df.isna().sum()"
   ]
  },
  {
   "cell_type": "code",
   "execution_count": 10,
   "id": "3a7cabe3",
   "metadata": {
    "tags": []
   },
   "outputs": [
    {
     "name": "stderr",
     "output_type": "stream",
     "text": [
      "/tmp/ipykernel_13671/1372067520.py:2: FutureWarning: A value is trying to be set on a copy of a DataFrame or Series through chained assignment using an inplace method.\n",
      "The behavior will change in pandas 3.0. This inplace method will never work because the intermediate object on which we are setting values always behaves as a copy.\n",
      "\n",
      "For example, when doing 'df[col].method(value, inplace=True)', try using 'df.method({col: value}, inplace=True)' or df[col] = df[col].method(value) instead, to perform the operation inplace on the original object.\n",
      "\n",
      "\n",
      "  df['vote'].fillna(0, inplace=True)\n"
     ]
    },
    {
     "data": {
      "text/plain": [
       "overall           0\n",
       "verified          0\n",
       "reviewTime        0\n",
       "reviewerID        0\n",
       "asin              0\n",
       "reviewerName    108\n",
       "reviewText      116\n",
       "summary          76\n",
       "vote              0\n",
       "category          0\n",
       "dtype: int64"
      ]
     },
     "execution_count": 10,
     "metadata": {},
     "output_type": "execute_result"
    }
   ],
   "source": [
    "# Replace NaN values in the 'vote' column with 0\n",
    "df['vote'].fillna(0, inplace=True)\n",
    "df.isna().sum()"
   ]
  },
  {
   "cell_type": "code",
   "execution_count": 11,
   "id": "7bcd5a66",
   "metadata": {
    "tags": []
   },
   "outputs": [
    {
     "data": {
      "text/plain": [
       "(280160, 10)"
      ]
     },
     "execution_count": 11,
     "metadata": {},
     "output_type": "execute_result"
    }
   ],
   "source": [
    "df.dropna(subset=['reviewerName', 'reviewText', 'summary'], inplace=True)\n",
    "df.shape"
   ]
  },
  {
   "cell_type": "code",
   "execution_count": 12,
   "id": "b5d764f2",
   "metadata": {
    "tags": []
   },
   "outputs": [
    {
     "data": {
      "text/plain": [
       "overall         0\n",
       "verified        0\n",
       "reviewTime      0\n",
       "reviewerID      0\n",
       "asin            0\n",
       "reviewerName    0\n",
       "reviewText      0\n",
       "summary         0\n",
       "vote            0\n",
       "category        0\n",
       "dtype: int64"
      ]
     },
     "execution_count": 12,
     "metadata": {},
     "output_type": "execute_result"
    }
   ],
   "source": [
    "df.isna().sum()"
   ]
  },
  {
   "cell_type": "markdown",
   "id": "4bb8b894",
   "metadata": {},
   "source": [
    "## TEXT NORMALIZATION"
   ]
  },
  {
   "cell_type": "code",
   "execution_count": 13,
   "id": "e2aea349",
   "metadata": {
    "scrolled": true,
    "tags": []
   },
   "outputs": [],
   "source": [
    "df['clean_reviewText'] = df['reviewText'] + ' ' + df['summary']  # Combine reviewText and summary into one column\n",
    "df['clean_reviewText'] = df['clean_reviewText'].str.lower()  # Convert text to lowercase\n",
    "df['clean_reviewText'] = df['clean_reviewText'].str.strip() # Remove extra trailing whitespaces"
   ]
  },
  {
   "cell_type": "code",
   "execution_count": 14,
   "id": "07c93777",
   "metadata": {
    "tags": []
   },
   "outputs": [
    {
     "name": "stdout",
     "output_type": "stream",
     "text": [
      "TEXT BEFORE:\n",
      "\n"
     ]
    },
    {
     "data": {
      "text/plain": [
       "\"I really like using organic products and this product had awesome reviews. Ive been seeing a dermatologist for my psoriasis and received a much of topical cream and even steroid injections. So I wanted to go more oganic. It still didn't work and Ive used the whole bottle. It didn't even help improve it any bit. Im sure this may work for someone else but it didn't for me.\""
      ]
     },
     "execution_count": 14,
     "metadata": {},
     "output_type": "execute_result"
    }
   ],
   "source": [
    "print(\"TEXT BEFORE:\\n\")\n",
    "df.loc[32, 'reviewText']"
   ]
  },
  {
   "cell_type": "code",
   "execution_count": 15,
   "id": "02f79596",
   "metadata": {
    "tags": []
   },
   "outputs": [
    {
     "name": "stdout",
     "output_type": "stream",
     "text": [
      "TEXT AFTER NORMALIZATION:\n",
      "\n"
     ]
    },
    {
     "data": {
      "text/plain": [
       "\"i really like using organic products and this product had awesome reviews. ive been seeing a dermatologist for my psoriasis and received a much of topical cream and even steroid injections. so i wanted to go more oganic. it still didn't work and ive used the whole bottle. it didn't even help improve it any bit. im sure this may work for someone else but it didn't for me. it didn't work for my psoriasis\""
      ]
     },
     "execution_count": 15,
     "metadata": {},
     "output_type": "execute_result"
    }
   ],
   "source": [
    "print(\"TEXT AFTER NORMALIZATION:\\n\")\n",
    "df.loc[32, 'clean_reviewText']"
   ]
  },
  {
   "cell_type": "code",
   "execution_count": 16,
   "id": "a49e29f8-735c-4836-b04d-ea66f0f4e29d",
   "metadata": {
    "tags": []
   },
   "outputs": [
    {
     "name": "stderr",
     "output_type": "stream",
     "text": [
      "[nltk_data] Downloading package vader_lexicon to\n",
      "[nltk_data]     /home/ec2-user/nltk_data...\n",
      "[nltk_data]   Package vader_lexicon is already up-to-date!\n"
     ]
    },
    {
     "data": {
      "text/plain": [
       "True"
      ]
     },
     "execution_count": 16,
     "metadata": {},
     "output_type": "execute_result"
    }
   ],
   "source": [
    "import nltk\n",
    "nltk.download('vader_lexicon')"
   ]
  },
  {
   "cell_type": "markdown",
   "id": "e44b5361",
   "metadata": {},
   "source": [
    "## DATA LABEL"
   ]
  },
  {
   "cell_type": "code",
   "execution_count": 17,
   "id": "436c7f87",
   "metadata": {
    "tags": []
   },
   "outputs": [
    {
     "name": "stderr",
     "output_type": "stream",
     "text": [
      "100%|██████████| 280160/280160 [03:58<00:00, 1176.22it/s]\n"
     ]
    }
   ],
   "source": [
    "from tqdm import tqdm\n",
    "from nltk.sentiment.vader import SentimentIntensityAnalyzer\n",
    "\n",
    "tqdm.pandas()\n",
    "\n",
    "sid = SentimentIntensityAnalyzer()\n",
    "\n",
    "def vader_sentiment_analysis(clean_review_text):\n",
    "    scores = sid.polarity_scores(clean_review_text)\n",
    "    \n",
    "    if scores['compound'] >= 0.5:\n",
    "        return 'positive'\n",
    "    elif scores['compound'] <= -0.5:\n",
    "        return 'negative' \n",
    "    else:\n",
    "        return 'neutral'\n",
    "\n",
    "df['sentiment'] = df['clean_reviewText'].progress_apply(vader_sentiment_analysis)"
   ]
  },
  {
   "cell_type": "code",
   "execution_count": 18,
   "id": "16361293",
   "metadata": {
    "tags": []
   },
   "outputs": [
    {
     "data": {
      "image/png": "[encoded data removed]",
      "text/plain": [
       "<Figure size 640x480 with 1 Axes>"
      ]
     },
     "metadata": {},
     "output_type": "display_data"
    }
   ],
   "source": [
    "import matplotlib.pyplot as plt\n",
    "sentiment_counts = df['sentiment'].value_counts()\n",
    "sentiments = sentiment_counts.index\n",
    "counts = sentiment_counts.values\n",
    "\n",
    "plt.bar(sentiments, counts, color=['red', 'green', 'blue'])  # Adjust colors as needed\n",
    "plt.xlabel('Sentiment')\n",
    "plt.ylabel('Count')\n",
    "plt.title('Sentiment Distribution')\n",
    "plt.show()"
   ]
  },
  {
   "cell_type": "code",
   "execution_count": 19,
   "id": "0f875a57",
   "metadata": {
    "tags": []
   },
   "outputs": [
    {
     "name": "stdout",
     "output_type": "stream",
     "text": [
      "sentiment\n",
      "positive    197482\n",
      "neutral      71192\n",
      "negative     11486\n",
      "Name: count, dtype: int64\n"
     ]
    }
   ],
   "source": [
    "import matplotlib.pyplot as plt\n",
    "\n",
    "# Calculate the counts of each sentiment category\n",
    "sentiment_counts = df['sentiment'].value_counts()\n",
    "print(sentiment_counts)"
   ]
  },
  {
   "cell_type": "code",
   "execution_count": 20,
   "id": "5af027be",
   "metadata": {
    "tags": []
   },
   "outputs": [
    {
     "name": "stdout",
     "output_type": "stream",
     "text": [
      "sentiment\n",
      "positive    197482\n",
      "negative     82678\n",
      "Name: count, dtype: int64\n"
     ]
    }
   ],
   "source": [
    "import pandas as pd\n",
    "\n",
    "df['sentiment'] = df['sentiment'].replace('neutral', 'negative')\n",
    "\n",
    "\n",
    "sentiment_counts = df['sentiment'].value_counts()\n",
    "print(sentiment_counts)\n"
   ]
  },
  {
   "cell_type": "code",
   "execution_count": 21,
   "id": "54e3878d",
   "metadata": {
    "tags": []
   },
   "outputs": [
    {
     "data": {
      "text/html": [
       "<div>\n",
       "<style scoped>\n",
       "    .dataframe tbody tr th:only-of-type {\n",
       "        vertical-align: middle;\n",
       "    }\n",
       "\n",
       "    .dataframe tbody tr th {\n",
       "        vertical-align: top;\n",
       "    }\n",
       "\n",
       "    .dataframe thead th {\n",
       "        text-align: right;\n",
       "    }\n",
       "</style>\n",
       "<table border=\"1\" class=\"dataframe\">\n",
       "  <thead>\n",
       "    <tr style=\"text-align: right;\">\n",
       "      <th></th>\n",
       "      <th>overall</th>\n",
       "      <th>verified</th>\n",
       "      <th>reviewTime</th>\n",
       "      <th>reviewerID</th>\n",
       "      <th>asin</th>\n",
       "      <th>reviewerName</th>\n",
       "      <th>reviewText</th>\n",
       "      <th>summary</th>\n",
       "      <th>vote</th>\n",
       "      <th>category</th>\n",
       "      <th>clean_reviewText</th>\n",
       "      <th>sentiment</th>\n",
       "    </tr>\n",
       "  </thead>\n",
       "  <tbody>\n",
       "    <tr>\n",
       "      <th>0</th>\n",
       "      <td>5.0</td>\n",
       "      <td>True</td>\n",
       "      <td>09 1, 2016</td>\n",
       "      <td>A3CIUOJXQ5VDQ2</td>\n",
       "      <td>B0000530HU</td>\n",
       "      <td>Shelly F</td>\n",
       "      <td>As advertised. Reasonably priced</td>\n",
       "      <td>Five Stars</td>\n",
       "      <td>0</td>\n",
       "      <td>Beauty Products</td>\n",
       "      <td>as advertised. reasonably priced five stars</td>\n",
       "      <td>negative</td>\n",
       "    </tr>\n",
       "    <tr>\n",
       "      <th>1</th>\n",
       "      <td>5.0</td>\n",
       "      <td>True</td>\n",
       "      <td>11 14, 2013</td>\n",
       "      <td>A3H7T87S984REU</td>\n",
       "      <td>B0000530HU</td>\n",
       "      <td>houserules18</td>\n",
       "      <td>Like the oder and the feel when I put it on my...</td>\n",
       "      <td>Good for the face</td>\n",
       "      <td>0</td>\n",
       "      <td>Beauty Products</td>\n",
       "      <td>like the oder and the feel when i put it on my...</td>\n",
       "      <td>positive</td>\n",
       "    </tr>\n",
       "    <tr>\n",
       "      <th>2</th>\n",
       "      <td>1.0</td>\n",
       "      <td>True</td>\n",
       "      <td>08 18, 2013</td>\n",
       "      <td>A3J034YH7UG4KT</td>\n",
       "      <td>B0000530HU</td>\n",
       "      <td>Adam</td>\n",
       "      <td>I bought this to smell nice after I shave.  Wh...</td>\n",
       "      <td>Smells awful</td>\n",
       "      <td>0</td>\n",
       "      <td>Beauty Products</td>\n",
       "      <td>i bought this to smell nice after i shave.  wh...</td>\n",
       "      <td>negative</td>\n",
       "    </tr>\n",
       "    <tr>\n",
       "      <th>3</th>\n",
       "      <td>5.0</td>\n",
       "      <td>False</td>\n",
       "      <td>05 3, 2011</td>\n",
       "      <td>A2UEO5XR3598GI</td>\n",
       "      <td>B0000530HU</td>\n",
       "      <td>Rich K</td>\n",
       "      <td>HEY!! I am an Aqua Velva Man and absolutely lo...</td>\n",
       "      <td>Truth is There IS Nothing Like an AQUA VELVA MAN.</td>\n",
       "      <td>25</td>\n",
       "      <td>Beauty Products</td>\n",
       "      <td>hey!! i am an aqua velva man and absolutely lo...</td>\n",
       "      <td>positive</td>\n",
       "    </tr>\n",
       "    <tr>\n",
       "      <th>4</th>\n",
       "      <td>5.0</td>\n",
       "      <td>True</td>\n",
       "      <td>05 6, 2011</td>\n",
       "      <td>A3SFRT223XXWF7</td>\n",
       "      <td>B00006L9LC</td>\n",
       "      <td>C. C. Christian</td>\n",
       "      <td>If you ever want to feel pampered by a shampoo...</td>\n",
       "      <td>Bvlgari Shampoo</td>\n",
       "      <td>3</td>\n",
       "      <td>Beauty Products</td>\n",
       "      <td>if you ever want to feel pampered by a shampoo...</td>\n",
       "      <td>positive</td>\n",
       "    </tr>\n",
       "  </tbody>\n",
       "</table>\n",
       "</div>"
      ],
      "text/plain": [
       "   overall  verified   reviewTime      reviewerID        asin  \\\n",
       "0      5.0      True   09 1, 2016  A3CIUOJXQ5VDQ2  B0000530HU   \n",
       "1      5.0      True  11 14, 2013  A3H7T87S984REU  B0000530HU   \n",
       "2      1.0      True  08 18, 2013  A3J034YH7UG4KT  B0000530HU   \n",
       "3      5.0     False   05 3, 2011  A2UEO5XR3598GI  B0000530HU   \n",
       "4      5.0      True   05 6, 2011  A3SFRT223XXWF7  B00006L9LC   \n",
       "\n",
       "      reviewerName                                         reviewText  \\\n",
       "0         Shelly F                   As advertised. Reasonably priced   \n",
       "1     houserules18  Like the oder and the feel when I put it on my...   \n",
       "2             Adam  I bought this to smell nice after I shave.  Wh...   \n",
       "3           Rich K  HEY!! I am an Aqua Velva Man and absolutely lo...   \n",
       "4  C. C. Christian  If you ever want to feel pampered by a shampoo...   \n",
       "\n",
       "                                             summary vote         category  \\\n",
       "0                                         Five Stars    0  Beauty Products   \n",
       "1                                  Good for the face    0  Beauty Products   \n",
       "2                                       Smells awful    0  Beauty Products   \n",
       "3  Truth is There IS Nothing Like an AQUA VELVA MAN.   25  Beauty Products   \n",
       "4                                    Bvlgari Shampoo    3  Beauty Products   \n",
       "\n",
       "                                    clean_reviewText sentiment  \n",
       "0        as advertised. reasonably priced five stars  negative  \n",
       "1  like the oder and the feel when i put it on my...  positive  \n",
       "2  i bought this to smell nice after i shave.  wh...  negative  \n",
       "3  hey!! i am an aqua velva man and absolutely lo...  positive  \n",
       "4  if you ever want to feel pampered by a shampoo...  positive  "
      ]
     },
     "execution_count": 21,
     "metadata": {},
     "output_type": "execute_result"
    }
   ],
   "source": [
    "df.head()"
   ]
  },
  {
   "cell_type": "code",
   "execution_count": 22,
   "id": "4d6a52ef-8329-4d11-8323-733a3389e2c7",
   "metadata": {
    "tags": []
   },
   "outputs": [
    {
     "name": "stderr",
     "output_type": "stream",
     "text": [
      "[nltk_data] Downloading package punkt to /home/ec2-user/nltk_data...\n",
      "[nltk_data]   Package punkt is already up-to-date!\n"
     ]
    },
    {
     "data": {
      "text/plain": [
       "True"
      ]
     },
     "execution_count": 22,
     "metadata": {},
     "output_type": "execute_result"
    }
   ],
   "source": [
    "import nltk\n",
    "nltk.download('punkt')"
   ]
  },
  {
   "cell_type": "markdown",
   "id": "51d5b63e",
   "metadata": {},
   "source": [
    "## TOKENIZATION"
   ]
  },
  {
   "cell_type": "code",
   "execution_count": 23,
   "id": "51975702",
   "metadata": {
    "tags": []
   },
   "outputs": [
    {
     "name": "stderr",
     "output_type": "stream",
     "text": [
      "100%|██████████| 280160/280160 [03:18<00:00, 1414.61it/s]\n"
     ]
    }
   ],
   "source": [
    "tqdm.pandas()\n",
    "df['tokens'] = df['clean_reviewText'].progress_apply(word_tokenize)"
   ]
  },
  {
   "cell_type": "code",
   "execution_count": 24,
   "id": "6af6d089",
   "metadata": {
    "tags": []
   },
   "outputs": [
    {
     "data": {
      "text/plain": [
       "['i',\n",
       " 'really',\n",
       " 'like',\n",
       " 'using',\n",
       " 'organic',\n",
       " 'products',\n",
       " 'and',\n",
       " 'this',\n",
       " 'product',\n",
       " 'had',\n",
       " 'awesome',\n",
       " 'reviews',\n",
       " '.',\n",
       " 'ive',\n",
       " 'been',\n",
       " 'seeing',\n",
       " 'a',\n",
       " 'dermatologist',\n",
       " 'for',\n",
       " 'my',\n",
       " 'psoriasis',\n",
       " 'and',\n",
       " 'received',\n",
       " 'a',\n",
       " 'much',\n",
       " 'of',\n",
       " 'topical',\n",
       " 'cream',\n",
       " 'and',\n",
       " 'even',\n",
       " 'steroid',\n",
       " 'injections',\n",
       " '.',\n",
       " 'so',\n",
       " 'i',\n",
       " 'wanted',\n",
       " 'to',\n",
       " 'go',\n",
       " 'more',\n",
       " 'oganic',\n",
       " '.',\n",
       " 'it',\n",
       " 'still',\n",
       " 'did',\n",
       " \"n't\",\n",
       " 'work',\n",
       " 'and',\n",
       " 'ive',\n",
       " 'used',\n",
       " 'the',\n",
       " 'whole',\n",
       " 'bottle',\n",
       " '.',\n",
       " 'it',\n",
       " 'did',\n",
       " \"n't\",\n",
       " 'even',\n",
       " 'help',\n",
       " 'improve',\n",
       " 'it',\n",
       " 'any',\n",
       " 'bit',\n",
       " '.',\n",
       " 'im',\n",
       " 'sure',\n",
       " 'this',\n",
       " 'may',\n",
       " 'work',\n",
       " 'for',\n",
       " 'someone',\n",
       " 'else',\n",
       " 'but',\n",
       " 'it',\n",
       " 'did',\n",
       " \"n't\",\n",
       " 'for',\n",
       " 'me',\n",
       " '.',\n",
       " 'it',\n",
       " 'did',\n",
       " \"n't\",\n",
       " 'work',\n",
       " 'for',\n",
       " 'my',\n",
       " 'psoriasis']"
      ]
     },
     "execution_count": 24,
     "metadata": {},
     "output_type": "execute_result"
    }
   ],
   "source": [
    "df.loc[32,'tokens']"
   ]
  },
  {
   "cell_type": "markdown",
   "id": "461e2068-2b6f-4b3d-aee2-e0da0a71643a",
   "metadata": {},
   "source": [
    "# Removing punctuations"
   ]
  },
  {
   "cell_type": "code",
   "execution_count": 25,
   "id": "cca5814e",
   "metadata": {
    "tags": []
   },
   "outputs": [],
   "source": [
    "df['tokens'] = df['tokens'].apply(lambda x: [word for word in x if word.isalpha()])"
   ]
  },
  {
   "cell_type": "code",
   "execution_count": 27,
   "id": "82a8b085",
   "metadata": {
    "tags": []
   },
   "outputs": [
    {
     "data": {
      "text/plain": [
       "['i',\n",
       " 'really',\n",
       " 'like',\n",
       " 'using',\n",
       " 'organic',\n",
       " 'products',\n",
       " 'and',\n",
       " 'this',\n",
       " 'product',\n",
       " 'had',\n",
       " 'awesome',\n",
       " 'reviews',\n",
       " 'ive',\n",
       " 'been',\n",
       " 'seeing',\n",
       " 'a',\n",
       " 'dermatologist',\n",
       " 'for',\n",
       " 'my',\n",
       " 'psoriasis',\n",
       " 'and',\n",
       " 'received',\n",
       " 'a',\n",
       " 'much',\n",
       " 'of',\n",
       " 'topical',\n",
       " 'cream',\n",
       " 'and',\n",
       " 'even',\n",
       " 'steroid',\n",
       " 'injections',\n",
       " 'so',\n",
       " 'i',\n",
       " 'wanted',\n",
       " 'to',\n",
       " 'go',\n",
       " 'more',\n",
       " 'oganic',\n",
       " 'it',\n",
       " 'still',\n",
       " 'did',\n",
       " 'work',\n",
       " 'and',\n",
       " 'ive',\n",
       " 'used',\n",
       " 'the',\n",
       " 'whole',\n",
       " 'bottle',\n",
       " 'it',\n",
       " 'did',\n",
       " 'even',\n",
       " 'help',\n",
       " 'improve',\n",
       " 'it',\n",
       " 'any',\n",
       " 'bit',\n",
       " 'im',\n",
       " 'sure',\n",
       " 'this',\n",
       " 'may',\n",
       " 'work',\n",
       " 'for',\n",
       " 'someone',\n",
       " 'else',\n",
       " 'but',\n",
       " 'it',\n",
       " 'did',\n",
       " 'for',\n",
       " 'me',\n",
       " 'it',\n",
       " 'did',\n",
       " 'work',\n",
       " 'for',\n",
       " 'my',\n",
       " 'psoriasis']"
      ]
     },
     "execution_count": 27,
     "metadata": {},
     "output_type": "execute_result"
    }
   ],
   "source": [
    "df.loc[32, 'tokens']"
   ]
  },
  {
   "cell_type": "markdown",
   "id": "33d9f63f",
   "metadata": {},
   "source": [
    "## Removing Stopwords"
   ]
  },
  {
   "cell_type": "code",
   "execution_count": 28,
   "id": "52e5177e-a322-4a8e-9a58-24364ad80685",
   "metadata": {
    "tags": []
   },
   "outputs": [
    {
     "name": "stderr",
     "output_type": "stream",
     "text": [
      "[nltk_data] Downloading package stopwords to\n",
      "[nltk_data]     /home/ec2-user/nltk_data...\n",
      "[nltk_data]   Package stopwords is already up-to-date!\n"
     ]
    },
    {
     "data": {
      "text/plain": [
       "True"
      ]
     },
     "execution_count": 28,
     "metadata": {},
     "output_type": "execute_result"
    }
   ],
   "source": [
    "import nltk\n",
    "nltk.download('stopwords')"
   ]
  },
  {
   "cell_type": "code",
   "execution_count": 29,
   "id": "70a32c6b",
   "metadata": {
    "tags": []
   },
   "outputs": [],
   "source": [
    "stop_words = set(stopwords.words('english'))\n",
    "df['tokens'] = df['tokens'].apply(lambda x: [word for word in x if word not in stop_words])"
   ]
  },
  {
   "cell_type": "code",
   "execution_count": 30,
   "id": "b140ae8f",
   "metadata": {
    "tags": []
   },
   "outputs": [
    {
     "data": {
      "text/plain": [
       "['really',\n",
       " 'like',\n",
       " 'using',\n",
       " 'organic',\n",
       " 'products',\n",
       " 'product',\n",
       " 'awesome',\n",
       " 'reviews',\n",
       " 'ive',\n",
       " 'seeing',\n",
       " 'dermatologist',\n",
       " 'psoriasis',\n",
       " 'received',\n",
       " 'much',\n",
       " 'topical',\n",
       " 'cream',\n",
       " 'even',\n",
       " 'steroid',\n",
       " 'injections',\n",
       " 'wanted',\n",
       " 'go',\n",
       " 'oganic',\n",
       " 'still',\n",
       " 'work',\n",
       " 'ive',\n",
       " 'used',\n",
       " 'whole',\n",
       " 'bottle',\n",
       " 'even',\n",
       " 'help',\n",
       " 'improve',\n",
       " 'bit',\n",
       " 'im',\n",
       " 'sure',\n",
       " 'may',\n",
       " 'work',\n",
       " 'someone',\n",
       " 'else',\n",
       " 'work',\n",
       " 'psoriasis']"
      ]
     },
     "execution_count": 30,
     "metadata": {},
     "output_type": "execute_result"
    }
   ],
   "source": [
    "df.loc[32, 'tokens']"
   ]
  },
  {
   "cell_type": "code",
   "execution_count": 31,
   "id": "5d9454ca-fb0d-4af1-9111-b7546220774e",
   "metadata": {
    "tags": []
   },
   "outputs": [
    {
     "name": "stderr",
     "output_type": "stream",
     "text": [
      "[nltk_data] Downloading package averaged_perceptron_tagger to\n",
      "[nltk_data]     /home/ec2-user/nltk_data...\n",
      "[nltk_data]   Package averaged_perceptron_tagger is already up-to-\n",
      "[nltk_data]       date!\n"
     ]
    },
    {
     "data": {
      "text/plain": [
       "True"
      ]
     },
     "execution_count": 31,
     "metadata": {},
     "output_type": "execute_result"
    }
   ],
   "source": [
    "import nltk\n",
    "nltk.download('averaged_perceptron_tagger')"
   ]
  },
  {
   "cell_type": "code",
   "execution_count": 32,
   "id": "ffb0bc61",
   "metadata": {
    "tags": []
   },
   "outputs": [
    {
     "name": "stderr",
     "output_type": "stream",
     "text": [
      "100%|██████████| 280160/280160 [12:22<00:00, 377.23it/s] \n"
     ]
    }
   ],
   "source": [
    "tqdm.pandas()\n",
    "df['pos_tags'] = df['tokens'].progress_apply(nltk.pos_tag)"
   ]
  },
  {
   "cell_type": "code",
   "execution_count": 35,
   "id": "0e571c87",
   "metadata": {
    "tags": []
   },
   "outputs": [
    {
     "data": {
      "text/plain": [
       "0         [(advertised, VBN), (reasonably, RB), (priced,...\n",
       "1         [(like, IN), (oder, JJR), (feel, NN), (put, VB...\n",
       "2         [(bought, VBN), (smell, NN), (nice, RB), (shav...\n",
       "3         [(hey, NN), (aqua, VBP), (velva, NN), (man, NN...\n",
       "4         [(ever, RB), (want, VBP), (feel, NN), (pampere...\n",
       "                                ...                        \n",
       "280441    [(perfect, JJ), (fit, JJ), (five, CD), (stars,...\n",
       "280442    [(favorite, JJ), (cross, NN), (trainers, NNS),...\n",
       "280443    [(love, NN), (fit, NN), (perfect, JJ), (five, ...\n",
       "280444    [(favorite, JJ), (nike, NN), (shoe, NN), (ever...\n",
       "280445    [(wear, JJ), (everyday, JJ), (work, NN), (gym,...\n",
       "Name: pos_tags, Length: 280160, dtype: object"
      ]
     },
     "execution_count": 35,
     "metadata": {},
     "output_type": "execute_result"
    }
   ],
   "source": [
    "df['pos_tags']"
   ]
  },
  {
   "cell_type": "code",
   "execution_count": 36,
   "id": "89837049",
   "metadata": {
    "tags": []
   },
   "outputs": [
    {
     "data": {
      "text/plain": [
       "[('really', 'RB'),\n",
       " ('like', 'IN'),\n",
       " ('using', 'VBG'),\n",
       " ('organic', 'JJ'),\n",
       " ('products', 'NNS'),\n",
       " ('product', 'NN'),\n",
       " ('awesome', 'JJ'),\n",
       " ('reviews', 'NNS'),\n",
       " ('ive', 'JJ'),\n",
       " ('seeing', 'VBG'),\n",
       " ('dermatologist', 'JJ'),\n",
       " ('psoriasis', 'NN'),\n",
       " ('received', 'VBD'),\n",
       " ('much', 'JJ'),\n",
       " ('topical', 'JJ'),\n",
       " ('cream', 'NN'),\n",
       " ('even', 'RB'),\n",
       " ('steroid', 'JJ'),\n",
       " ('injections', 'NNS'),\n",
       " ('wanted', 'VBD'),\n",
       " ('go', 'VB'),\n",
       " ('oganic', 'JJ'),\n",
       " ('still', 'RB'),\n",
       " ('work', 'VBP'),\n",
       " ('ive', 'JJ'),\n",
       " ('used', 'JJ'),\n",
       " ('whole', 'JJ'),\n",
       " ('bottle', 'NN'),\n",
       " ('even', 'RB'),\n",
       " ('help', 'VB'),\n",
       " ('improve', 'VB'),\n",
       " ('bit', 'NN'),\n",
       " ('im', 'JJ'),\n",
       " ('sure', 'NN'),\n",
       " ('may', 'MD'),\n",
       " ('work', 'VB'),\n",
       " ('someone', 'NN'),\n",
       " ('else', 'RB'),\n",
       " ('work', 'NN'),\n",
       " ('psoriasis', 'NN')]"
      ]
     },
     "execution_count": 36,
     "metadata": {},
     "output_type": "execute_result"
    }
   ],
   "source": [
    "df.loc[32, 'pos_tags']"
   ]
  },
  {
   "cell_type": "code",
   "execution_count": 37,
   "id": "5d3501ef-bd8c-4448-b654-c298f5ff0397",
   "metadata": {
    "tags": []
   },
   "outputs": [
    {
     "name": "stderr",
     "output_type": "stream",
     "text": [
      "[nltk_data] Downloading package wordnet to /home/ec2-user/nltk_data...\n",
      "[nltk_data]   Package wordnet is already up-to-date!\n"
     ]
    },
    {
     "data": {
      "text/plain": [
       "True"
      ]
     },
     "execution_count": 37,
     "metadata": {},
     "output_type": "execute_result"
    }
   ],
   "source": [
    "import nltk\n",
    "nltk.download('wordnet')"
   ]
  },
  {
   "cell_type": "code",
   "execution_count": 38,
   "id": "0dc57605",
   "metadata": {
    "tags": []
   },
   "outputs": [],
   "source": [
    "from nltk.corpus import wordnet\n",
    "lemmatizer = WordNetLemmatizer()\n",
    "def nltk_to_wordnet_pos(nltk_pos_tag):\n",
    "    if nltk_pos_tag.startswith('J'):\n",
    "        return wordnet.ADJ\n",
    "    elif nltk_pos_tag.startswith('V'):\n",
    "        return wordnet.VERB\n",
    "    elif nltk_pos_tag.startswith('N'):\n",
    "        return wordnet.NOUN\n",
    "    elif nltk_pos_tag.startswith('R'):\n",
    "        return wordnet.ADV\n",
    "    else:\n",
    "        return None\n",
    "\n",
    "# Function to perform lemmatization using WordNet lemmatizer\n",
    "def lemmatize_with_pos(tokens_with_pos):\n",
    "    lemmatized_tokens = []\n",
    "    for token, nltk_pos_tag in tokens_with_pos:\n",
    "        # Map NLTK POS tag to WordNet POS tag\n",
    "        wordnet_pos_tag = nltk_to_wordnet_pos(nltk_pos_tag)\n",
    "        if wordnet_pos_tag is not None:\n",
    "            # Lemmatize token using WordNet POS tag\n",
    "            lemmatized_token = lemmatizer.lemmatize(token, pos=wordnet_pos_tag)\n",
    "        else:\n",
    "            # If POS tag mapping is not found, use the token as is\n",
    "            lemmatized_token = token\n",
    "        lemmatized_tokens.append(lemmatized_token)\n",
    "    return lemmatized_tokens\n",
    "\n",
    "# Apply lemmatization to the 'pos_tags' column\n",
    "df['lemmatized_tokens'] = df['pos_tags'].apply(lemmatize_with_pos)\n"
   ]
  },
  {
   "cell_type": "code",
   "execution_count": 39,
   "id": "298722bd",
   "metadata": {
    "tags": []
   },
   "outputs": [
    {
     "data": {
      "text/plain": [
       "['really',\n",
       " 'like',\n",
       " 'use',\n",
       " 'organic',\n",
       " 'product',\n",
       " 'product',\n",
       " 'awesome',\n",
       " 'review',\n",
       " 'ive',\n",
       " 'see',\n",
       " 'dermatologist',\n",
       " 'psoriasis',\n",
       " 'receive',\n",
       " 'much',\n",
       " 'topical',\n",
       " 'cream',\n",
       " 'even',\n",
       " 'steroid',\n",
       " 'injection',\n",
       " 'want',\n",
       " 'go',\n",
       " 'oganic',\n",
       " 'still',\n",
       " 'work',\n",
       " 'ive',\n",
       " 'used',\n",
       " 'whole',\n",
       " 'bottle',\n",
       " 'even',\n",
       " 'help',\n",
       " 'improve',\n",
       " 'bit',\n",
       " 'im',\n",
       " 'sure',\n",
       " 'may',\n",
       " 'work',\n",
       " 'someone',\n",
       " 'else',\n",
       " 'work',\n",
       " 'psoriasis']"
      ]
     },
     "execution_count": 39,
     "metadata": {},
     "output_type": "execute_result"
    }
   ],
   "source": [
    "df.loc[32,'lemmatized_tokens']"
   ]
  },
  {
   "cell_type": "code",
   "execution_count": 40,
   "id": "c92ea01b",
   "metadata": {
    "scrolled": true,
    "tags": []
   },
   "outputs": [
    {
     "data": {
      "text/html": [
       "<div>\n",
       "<style scoped>\n",
       "    .dataframe tbody tr th:only-of-type {\n",
       "        vertical-align: middle;\n",
       "    }\n",
       "\n",
       "    .dataframe tbody tr th {\n",
       "        vertical-align: top;\n",
       "    }\n",
       "\n",
       "    .dataframe thead th {\n",
       "        text-align: right;\n",
       "    }\n",
       "</style>\n",
       "<table border=\"1\" class=\"dataframe\">\n",
       "  <thead>\n",
       "    <tr style=\"text-align: right;\">\n",
       "      <th></th>\n",
       "      <th>overall</th>\n",
       "      <th>verified</th>\n",
       "      <th>reviewTime</th>\n",
       "      <th>reviewerID</th>\n",
       "      <th>asin</th>\n",
       "      <th>reviewerName</th>\n",
       "      <th>reviewText</th>\n",
       "      <th>summary</th>\n",
       "      <th>vote</th>\n",
       "      <th>category</th>\n",
       "      <th>clean_reviewText</th>\n",
       "      <th>sentiment</th>\n",
       "      <th>tokens</th>\n",
       "      <th>pos_tags</th>\n",
       "      <th>lemmatized_tokens</th>\n",
       "    </tr>\n",
       "  </thead>\n",
       "  <tbody>\n",
       "    <tr>\n",
       "      <th>0</th>\n",
       "      <td>5.0</td>\n",
       "      <td>True</td>\n",
       "      <td>09 1, 2016</td>\n",
       "      <td>A3CIUOJXQ5VDQ2</td>\n",
       "      <td>B0000530HU</td>\n",
       "      <td>Shelly F</td>\n",
       "      <td>As advertised. Reasonably priced</td>\n",
       "      <td>Five Stars</td>\n",
       "      <td>0</td>\n",
       "      <td>Beauty Products</td>\n",
       "      <td>as advertised. reasonably priced five stars</td>\n",
       "      <td>negative</td>\n",
       "      <td>[advertised, reasonably, priced, five, stars]</td>\n",
       "      <td>[(advertised, VBN), (reasonably, RB), (priced,...</td>\n",
       "      <td>[advertise, reasonably, price, five, star]</td>\n",
       "    </tr>\n",
       "    <tr>\n",
       "      <th>1</th>\n",
       "      <td>5.0</td>\n",
       "      <td>True</td>\n",
       "      <td>11 14, 2013</td>\n",
       "      <td>A3H7T87S984REU</td>\n",
       "      <td>B0000530HU</td>\n",
       "      <td>houserules18</td>\n",
       "      <td>Like the oder and the feel when I put it on my...</td>\n",
       "      <td>Good for the face</td>\n",
       "      <td>0</td>\n",
       "      <td>Beauty Products</td>\n",
       "      <td>like the oder and the feel when i put it on my...</td>\n",
       "      <td>positive</td>\n",
       "      <td>[like, oder, feel, put, face, tried, brands, r...</td>\n",
       "      <td>[(like, IN), (oder, JJR), (feel, NN), (put, VB...</td>\n",
       "      <td>[like, oder, feel, put, face, try, brand, revi...</td>\n",
       "    </tr>\n",
       "    <tr>\n",
       "      <th>2</th>\n",
       "      <td>1.0</td>\n",
       "      <td>True</td>\n",
       "      <td>08 18, 2013</td>\n",
       "      <td>A3J034YH7UG4KT</td>\n",
       "      <td>B0000530HU</td>\n",
       "      <td>Adam</td>\n",
       "      <td>I bought this to smell nice after I shave.  Wh...</td>\n",
       "      <td>Smells awful</td>\n",
       "      <td>0</td>\n",
       "      <td>Beauty Products</td>\n",
       "      <td>i bought this to smell nice after i shave.  wh...</td>\n",
       "      <td>negative</td>\n",
       "      <td>[bought, smell, nice, shave, put, smelled, awf...</td>\n",
       "      <td>[(bought, VBN), (smell, NN), (nice, RB), (shav...</td>\n",
       "      <td>[buy, smell, nice, shave, put, smelled, awful,...</td>\n",
       "    </tr>\n",
       "    <tr>\n",
       "      <th>3</th>\n",
       "      <td>5.0</td>\n",
       "      <td>False</td>\n",
       "      <td>05 3, 2011</td>\n",
       "      <td>A2UEO5XR3598GI</td>\n",
       "      <td>B0000530HU</td>\n",
       "      <td>Rich K</td>\n",
       "      <td>HEY!! I am an Aqua Velva Man and absolutely lo...</td>\n",
       "      <td>Truth is There IS Nothing Like an AQUA VELVA MAN.</td>\n",
       "      <td>25</td>\n",
       "      <td>Beauty Products</td>\n",
       "      <td>hey!! i am an aqua velva man and absolutely lo...</td>\n",
       "      <td>positive</td>\n",
       "      <td>[hey, aqua, velva, man, absolutely, love, stuf...</td>\n",
       "      <td>[(hey, NN), (aqua, VBP), (velva, NN), (man, NN...</td>\n",
       "      <td>[hey, aqua, velva, man, absolutely, love, stuf...</td>\n",
       "    </tr>\n",
       "    <tr>\n",
       "      <th>4</th>\n",
       "      <td>5.0</td>\n",
       "      <td>True</td>\n",
       "      <td>05 6, 2011</td>\n",
       "      <td>A3SFRT223XXWF7</td>\n",
       "      <td>B00006L9LC</td>\n",
       "      <td>C. C. Christian</td>\n",
       "      <td>If you ever want to feel pampered by a shampoo...</td>\n",
       "      <td>Bvlgari Shampoo</td>\n",
       "      <td>3</td>\n",
       "      <td>Beauty Products</td>\n",
       "      <td>if you ever want to feel pampered by a shampoo...</td>\n",
       "      <td>positive</td>\n",
       "      <td>[ever, want, feel, pampered, shampoo, one, one...</td>\n",
       "      <td>[(ever, RB), (want, VBP), (feel, NN), (pampere...</td>\n",
       "      <td>[ever, want, feel, pamper, shampoo, one, one, ...</td>\n",
       "    </tr>\n",
       "  </tbody>\n",
       "</table>\n",
       "</div>"
      ],
      "text/plain": [
       "   overall  verified   reviewTime      reviewerID        asin  \\\n",
       "0      5.0      True   09 1, 2016  A3CIUOJXQ5VDQ2  B0000530HU   \n",
       "1      5.0      True  11 14, 2013  A3H7T87S984REU  B0000530HU   \n",
       "2      1.0      True  08 18, 2013  A3J034YH7UG4KT  B0000530HU   \n",
       "3      5.0     False   05 3, 2011  A2UEO5XR3598GI  B0000530HU   \n",
       "4      5.0      True   05 6, 2011  A3SFRT223XXWF7  B00006L9LC   \n",
       "\n",
       "      reviewerName                                         reviewText  \\\n",
       "0         Shelly F                   As advertised. Reasonably priced   \n",
       "1     houserules18  Like the oder and the feel when I put it on my...   \n",
       "2             Adam  I bought this to smell nice after I shave.  Wh...   \n",
       "3           Rich K  HEY!! I am an Aqua Velva Man and absolutely lo...   \n",
       "4  C. C. Christian  If you ever want to feel pampered by a shampoo...   \n",
       "\n",
       "                                             summary vote         category  \\\n",
       "0                                         Five Stars    0  Beauty Products   \n",
       "1                                  Good for the face    0  Beauty Products   \n",
       "2                                       Smells awful    0  Beauty Products   \n",
       "3  Truth is There IS Nothing Like an AQUA VELVA MAN.   25  Beauty Products   \n",
       "4                                    Bvlgari Shampoo    3  Beauty Products   \n",
       "\n",
       "                                    clean_reviewText sentiment  \\\n",
       "0        as advertised. reasonably priced five stars  negative   \n",
       "1  like the oder and the feel when i put it on my...  positive   \n",
       "2  i bought this to smell nice after i shave.  wh...  negative   \n",
       "3  hey!! i am an aqua velva man and absolutely lo...  positive   \n",
       "4  if you ever want to feel pampered by a shampoo...  positive   \n",
       "\n",
       "                                              tokens  \\\n",
       "0      [advertised, reasonably, priced, five, stars]   \n",
       "1  [like, oder, feel, put, face, tried, brands, r...   \n",
       "2  [bought, smell, nice, shave, put, smelled, awf...   \n",
       "3  [hey, aqua, velva, man, absolutely, love, stuf...   \n",
       "4  [ever, want, feel, pampered, shampoo, one, one...   \n",
       "\n",
       "                                            pos_tags  \\\n",
       "0  [(advertised, VBN), (reasonably, RB), (priced,...   \n",
       "1  [(like, IN), (oder, JJR), (feel, NN), (put, VB...   \n",
       "2  [(bought, VBN), (smell, NN), (nice, RB), (shav...   \n",
       "3  [(hey, NN), (aqua, VBP), (velva, NN), (man, NN...   \n",
       "4  [(ever, RB), (want, VBP), (feel, NN), (pampere...   \n",
       "\n",
       "                                   lemmatized_tokens  \n",
       "0         [advertise, reasonably, price, five, star]  \n",
       "1  [like, oder, feel, put, face, try, brand, revi...  \n",
       "2  [buy, smell, nice, shave, put, smelled, awful,...  \n",
       "3  [hey, aqua, velva, man, absolutely, love, stuf...  \n",
       "4  [ever, want, feel, pamper, shampoo, one, one, ...  "
      ]
     },
     "execution_count": 40,
     "metadata": {},
     "output_type": "execute_result"
    }
   ],
   "source": [
    "df.head()"
   ]
  },
  {
   "cell_type": "code",
   "execution_count": 41,
   "id": "8e608304-ab5f-4400-89d9-6d3d0ebae3f6",
   "metadata": {
    "tags": []
   },
   "outputs": [
    {
     "name": "stdout",
     "output_type": "stream",
     "text": [
      "Requirement already satisfied: pickle5 in /home/ec2-user/anaconda3/envs/python3/lib/python3.10/site-packages (0.0.11)\n"
     ]
    }
   ],
   "source": [
    "!pip install pickle5"
   ]
  },
  {
   "cell_type": "markdown",
   "id": "37cab88d-0f22-4306-8dd4-e0d33332a685",
   "metadata": {},
   "source": [
    "# TF-IDF"
   ]
  },
  {
   "cell_type": "code",
   "execution_count": 42,
   "id": "d24e680e",
   "metadata": {
    "tags": []
   },
   "outputs": [
    {
     "name": "stdout",
     "output_type": "stream",
     "text": [
      "TF-IDF matrix shape: (280160, 47433)\n"
     ]
    }
   ],
   "source": [
    "from sklearn.feature_extraction.text import TfidfVectorizer\n",
    "import pickle5 as pickle\n",
    "# Convert non-list entries in the 'lemmatized_tokens' column into lists\n",
    "df['lemmatized_tokens'] = df['lemmatized_tokens'].apply(lambda x: x if isinstance(x, list) else [])\n",
    "\n",
    "# Join the lemmatized tokens into strings (required by TfidfVectorizer)\n",
    "lemmatized_text = df['lemmatized_tokens'].apply(lambda tokens: ' '.join(tokens))\n",
    "\n",
    "tfidf_vectorizer = TfidfVectorizer()\n",
    "\n",
    "tfidf_vectorizer.fit(lemmatized_text)\n",
    "\n",
    "with open('tfidf_vectorizer.pkl', 'wb') as f:\n",
    "    pickle.dump(tfidf_vectorizer, f)\n",
    "\n",
    "tfidf_matrix = tfidf_vectorizer.transform(lemmatized_text)\n",
    "\n",
    "print(\"TF-IDF matrix shape:\", tfidf_matrix.shape)"
   ]
  },
  {
   "cell_type": "markdown",
   "id": "f427c9b4-454f-454c-92ea-7d17fb4b512a",
   "metadata": {},
   "source": [
    "# Logistic Regression (LR) Model"
   ]
  },
  {
   "cell_type": "code",
   "execution_count": 43,
   "id": "4b3f9a5b",
   "metadata": {
    "tags": []
   },
   "outputs": [
    {
     "name": "stdout",
     "output_type": "stream",
     "text": [
      "Accuracy: 0.9199921473443746\n",
      "Classification Report:\n",
      "              precision    recall  f1-score   support\n",
      "\n",
      "    negative       0.90      0.82      0.86     16733\n",
      "    positive       0.93      0.96      0.94     39299\n",
      "\n",
      "    accuracy                           0.92     56032\n",
      "   macro avg       0.91      0.89      0.90     56032\n",
      "weighted avg       0.92      0.92      0.92     56032\n",
      "\n",
      "Confusion Matrix:\n",
      "[[13788  2945]\n",
      " [ 1538 37761]]\n"
     ]
    }
   ],
   "source": [
    "from sklearn.model_selection import train_test_split\n",
    "from sklearn.linear_model import LogisticRegression\n",
    "from sklearn.metrics import accuracy_score, classification_report, confusion_matrix\n",
    "\n",
    "# Split the data into training and testing sets\n",
    "X = tfidf_matrix  # Features (TF-IDF matrix)\n",
    "y = df['sentiment']  # Target variable (sentiment)\n",
    "X_train, X_test, y_train, y_test = train_test_split(X, y, test_size=0.2, random_state=42)\n",
    "\n",
    "# Initialize and train logistic regression classifier\n",
    "classifier = LogisticRegression(max_iter=1000)\n",
    "classifier.fit(X_train, y_train)\n",
    "\n",
    "# Predict on the testing set\n",
    "y_pred = classifier.predict(X_test)\n",
    "\n",
    "# Evaluate the model\n",
    "accuracy = accuracy_score(y_test, y_pred)\n",
    "print(\"Accuracy:\", accuracy)\n",
    "\n",
    "# Print classification report\n",
    "print(\"Classification Report:\")\n",
    "print(classification_report(y_test, y_pred))\n",
    "\n",
    "# Print confusion matrix\n",
    "print(\"Confusion Matrix:\")\n",
    "print(confusion_matrix(y_test, y_pred))\n"
   ]
  },
  {
   "cell_type": "code",
   "execution_count": 44,
   "id": "668b49b7-3846-41a8-95b3-a0fd52fa7e40",
   "metadata": {
    "tags": []
   },
   "outputs": [],
   "source": [
    "import pickle\n",
    "\n",
    "with open('LR_model.pkl', 'wb') as f:\n",
    "    pickle.dump(classifier, f)\n"
   ]
  },
  {
   "cell_type": "markdown",
   "id": "d0cdaaa5-24b6-4dbe-9ef6-409426e04799",
   "metadata": {},
   "source": [
    "# Navie Baise"
   ]
  },
  {
   "cell_type": "code",
   "execution_count": 45,
   "id": "541ce847-73c7-4cff-b480-f16c62be552d",
   "metadata": {
    "tags": []
   },
   "outputs": [
    {
     "name": "stdout",
     "output_type": "stream",
     "text": [
      "Accuracy: 0.8088592233009708\n",
      "Classification Report:\n",
      "              precision    recall  f1-score   support\n",
      "\n",
      "    negative       0.90      0.40      0.56     16733\n",
      "    positive       0.79      0.98      0.88     39299\n",
      "\n",
      "    accuracy                           0.81     56032\n",
      "   macro avg       0.85      0.69      0.72     56032\n",
      "weighted avg       0.83      0.81      0.78     56032\n",
      "\n",
      "Confusion Matrix:\n",
      "[[ 6770  9963]\n",
      " [  747 38552]]\n"
     ]
    }
   ],
   "source": [
    "from sklearn.feature_extraction.text import TfidfVectorizer\n",
    "from sklearn.naive_bayes import MultinomialNB\n",
    "from sklearn.pipeline import make_pipeline\n",
    "from sklearn.model_selection import train_test_split\n",
    "from sklearn.metrics import accuracy_score, classification_report, confusion_matrix\n",
    "import pandas as pd\n",
    "\n",
    "# Split the data into training and testing sets\n",
    "X = tfidf_matrix  # Features (TF-IDF matrix)\n",
    "y = df['sentiment']  # Target variable (sentiment)\n",
    "X_train, X_test, y_train, y_test = train_test_split(X, y, test_size=0.2, random_state=42)\n",
    "\n",
    "model = make_pipeline(MultinomialNB())\n",
    "\n",
    "model.fit(X_train, y_train)\n",
    "y_pred = model.predict(X_test)\n",
    "\n",
    "# Evaluate the model\n",
    "accuracy = accuracy_score(y_test, y_pred)\n",
    "print(\"Accuracy:\", accuracy)\n",
    "\n",
    "# Print classification report\n",
    "print(\"Classification Report:\")\n",
    "print(classification_report(y_test, y_pred))\n",
    "\n",
    "# Print confusion matrix\n",
    "print(\"Confusion Matrix:\")\n",
    "print(confusion_matrix(y_test, y_pred))\n"
   ]
  },
  {
   "cell_type": "code",
   "execution_count": 46,
   "id": "770183a2",
   "metadata": {
    "tags": []
   },
   "outputs": [],
   "source": [
    "import pickle\n",
    "\n",
    "# Save the model to a .pkl file\n",
    "with open('NB_model.pkl', 'wb') as f:\n",
    "    pickle.dump(classifier, f)\n"
   ]
  },
  {
   "cell_type": "code",
   "execution_count": null,
   "id": "5ccf0bd9",
   "metadata": {},
   "outputs": [],
   "source": []
  }
 ],
 "metadata": {
  "kernelspec": {
   "display_name": "conda_python3",
   "language": "python",
   "name": "conda_python3"
  },
  "language_info": {
   "codemirror_mode": {
    "name": "ipython",
    "version": 3
   },
   "file_extension": ".py",
   "mimetype": "text/x-python",
   "name": "python",
   "nbconvert_exporter": "python",
   "pygments_lexer": "ipython3",
   "version": "3.10.13"
  }
 },
 "nbformat": 4,
 "nbformat_minor": 5
}
